{
 "cells": [
  {
   "cell_type": "markdown",
   "id": "4a5d590d",
   "metadata": {},
   "source": [
    "# Generating a file to each word"
   ]
  },
  {
   "cell_type": "code",
   "execution_count": 123,
   "id": "01e500f6",
   "metadata": {},
   "outputs": [
    {
     "name": "stdout",
     "output_type": "stream",
     "text": [
      "a-pe-ti\n"
     ]
    },
    {
     "data": {
      "text/plain": [
       "'4/01-0041-4221'"
      ]
     },
     "execution_count": 123,
     "metadata": {},
     "output_type": "execute_result"
    },
    {
     "name": "stdout",
     "output_type": "stream",
     "text": [
      "a-pe-ti\n"
     ]
    },
    {
     "data": {
      "text/plain": [
       "'40-04-42'"
      ]
     },
     "execution_count": 123,
     "metadata": {},
     "output_type": "execute_result"
    }
   ],
   "source": [
    "#import basic functions\n",
    "\n",
    "import io\n",
    "import nbformat\n",
    "import pandas as pd\n",
    "import numpy as np\n",
    "\n",
    "def execute_notebook(nbfile):\n",
    "    with io.open(nbfile, encoding=\"utf8\") as f:\n",
    "        nb = nbformat.read(f, as_version=4)\n",
    "\n",
    "    ip = get_ipython()\n",
    "\n",
    "    for cell in nb.cells:\n",
    "        if cell.cell_type != 'code':\n",
    "            continue\n",
    "        ip.run_cell(cell.source)\n",
    "        \n",
    "        \n",
    "execute_notebook(r\"C:\\Users\\hagar\\OneDrive - mail.tau.ac.il\\Desktop\\Stage\\LPC_2022\\basic lpc functions\\LPC_Usefull_Functions.ipynb\")\n"
   ]
  },
  {
   "cell_type": "code",
   "execution_count": 124,
   "id": "24741152",
   "metadata": {},
   "outputs": [],
   "source": [
    "# open the csv with all the words and their file names\n",
    "\n",
    "df = pd.read_csv(r\"C:\\Users\\hagar\\OneDrive - mail.tau.ac.il\\Desktop\\CUSTIME videos\\CUSTIME words syll files\\word_file_names.csv\", encoding=\"utf-8\",index_col=False)\n",
    "\n",
    "\n",
    "words = df['word'].tolist()\n",
    "pse_words = words[240:]\n",
    "words = words[:240]\n",
    "\n",
    "files = df['file_name'].tolist()\n",
    "files_pse = files[240:]\n",
    "files_words = files[:240]\n",
    "\n",
    "\n",
    "col_names = ['gesture','position','time_position','shape','time_shape','poa','time_poa', 'rounding', 'time_rounding']\n"
   ]
  },
  {
   "cell_type": "code",
   "execution_count": 125,
   "id": "7e78c203",
   "metadata": {},
   "outputs": [],
   "source": [
    "# create a csv to each word\n",
    "    \n",
    "#words\n",
    "for i in range (len(words)):\n",
    "    word = words[i]\n",
    "    lpc = get_LPC_p(word)\n",
    "    lpc = lpc.split('-')\n",
    "    code = shape_position_code(word)\n",
    "    code = code.split('-')\n",
    "    shape =[]\n",
    "    positions = []\n",
    "    for x in code:\n",
    "        shape.append(x[0])\n",
    "        positions.append(x[1])\n",
    "    \n",
    "    zero_data = np.zeros(shape=(len(lpc),len(col_names)))\n",
    "    df = pd.DataFrame(zero_data, columns=col_names)\n",
    "    df['gesture']= lpc\n",
    "    df['position']= positions\n",
    "    df['shape']= shape\n",
    "\n",
    "    df.to_csv(f'{files_words[i]}.csv', encoding=\"utf-8-sig\",index=False)\n",
    "\n",
    "    \n",
    "#pseudo words\n",
    "for i in range (len(pse_words)):\n",
    "    df = pd.DataFrame(zero_data, columns=col_names)  \n",
    "    df.to_csv(fr'C:\\Users\\hagar\\OneDrive - mail.tau.ac.il\\Desktop\\CUSTIME videos\\CUSTIME words syll files\\ {files_pse[i]}.csv', encoding=\"utf-8-sig\",index=False)\n"
   ]
  },
  {
   "cell_type": "code",
   "execution_count": 115,
   "id": "34b14acb",
   "metadata": {},
   "outputs": [],
   "source": []
  }
 ],
 "metadata": {
  "kernelspec": {
   "display_name": "Python 3 (ipykernel)",
   "language": "python",
   "name": "python3"
  },
  "language_info": {
   "codemirror_mode": {
    "name": "ipython",
    "version": 3
   },
   "file_extension": ".py",
   "mimetype": "text/x-python",
   "name": "python",
   "nbconvert_exporter": "python",
   "pygments_lexer": "ipython3",
   "version": "3.9.7"
  }
 },
 "nbformat": 4,
 "nbformat_minor": 5
}
