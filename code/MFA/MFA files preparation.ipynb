{
 "cells": [
  {
   "cell_type": "markdown",
   "id": "108a6c78",
   "metadata": {},
   "source": [
    "# 1. install lib"
   ]
  },
  {
   "cell_type": "code",
   "execution_count": 129,
   "id": "427ff7f0",
   "metadata": {},
   "outputs": [
    {
     "name": "stdout",
     "output_type": "stream",
     "text": [
      "Collecting pydub\n",
      "  Downloading pydub-0.25.1-py2.py3-none-any.whl (32 kB)\n",
      "Installing collected packages: pydub\n",
      "Successfully installed pydub-0.25.1\n"
     ]
    }
   ],
   "source": [
    "!pip install pydub"
   ]
  },
  {
   "cell_type": "code",
   "execution_count": 60,
   "id": "6ef55a4c",
   "metadata": {},
   "outputs": [
    {
     "name": "stdout",
     "output_type": "stream",
     "text": [
      "Collecting moviepy==1.0.0\n",
      "  Downloading moviepy-1.0.0.tar.gz (398 kB)\n",
      "Requirement already satisfied: decorator<5.0,>=4.0.2 in c:\\users\\hagar\\anaconda3\\lib\\site-packages (from moviepy==1.0.0) (4.4.2)\n",
      "Requirement already satisfied: tqdm<5.0,>=4.11.2 in c:\\users\\hagar\\anaconda3\\lib\\site-packages (from moviepy==1.0.0) (4.62.3)\n",
      "Requirement already satisfied: numpy in c:\\users\\hagar\\anaconda3\\lib\\site-packages (from moviepy==1.0.0) (1.20.3)\n",
      "Requirement already satisfied: requests<3.0,>=2.8.1 in c:\\users\\hagar\\anaconda3\\lib\\site-packages (from moviepy==1.0.0) (2.26.0)\n",
      "Requirement already satisfied: proglog<=1.0.0 in c:\\users\\hagar\\anaconda3\\lib\\site-packages (from moviepy==1.0.0) (0.1.9)\n",
      "Requirement already satisfied: imageio<3.0,>=2.5 in c:\\users\\hagar\\anaconda3\\lib\\site-packages (from moviepy==1.0.0) (2.9.0)\n",
      "Requirement already satisfied: imageio_ffmpeg>=0.2.0 in c:\\users\\hagar\\anaconda3\\lib\\site-packages (from moviepy==1.0.0) (0.4.7)\n",
      "Requirement already satisfied: pillow in c:\\users\\hagar\\anaconda3\\lib\\site-packages (from imageio<3.0,>=2.5->moviepy==1.0.0) (8.4.0)\n",
      "Requirement already satisfied: urllib3<1.27,>=1.21.1 in c:\\users\\hagar\\anaconda3\\lib\\site-packages (from requests<3.0,>=2.8.1->moviepy==1.0.0) (1.26.7)\n",
      "Requirement already satisfied: charset-normalizer~=2.0.0 in c:\\users\\hagar\\anaconda3\\lib\\site-packages (from requests<3.0,>=2.8.1->moviepy==1.0.0) (2.0.4)\n",
      "Requirement already satisfied: certifi>=2017.4.17 in c:\\users\\hagar\\anaconda3\\lib\\site-packages (from requests<3.0,>=2.8.1->moviepy==1.0.0) (2021.10.8)\n",
      "Requirement already satisfied: idna<4,>=2.5 in c:\\users\\hagar\\anaconda3\\lib\\site-packages (from requests<3.0,>=2.8.1->moviepy==1.0.0) (3.2)\n",
      "Requirement already satisfied: colorama in c:\\users\\hagar\\anaconda3\\lib\\site-packages (from tqdm<5.0,>=4.11.2->moviepy==1.0.0) (0.4.4)\n",
      "Building wheels for collected packages: moviepy\n",
      "  Building wheel for moviepy (setup.py): started\n",
      "  Building wheel for moviepy (setup.py): finished with status 'done'\n",
      "  Created wheel for moviepy: filename=moviepy-1.0.0-py3-none-any.whl size=131387 sha256=c4df03148eca028c5fb64bed6d90116812bb0cc4506ab62df5af3c064d95c591\n",
      "  Stored in directory: c:\\users\\hagar\\appdata\\local\\pip\\cache\\wheels\\db\\42\\be\\8c293f5eb03ba850e1de1a7e3354baafcd8c04a206945b34e2\n",
      "Successfully built moviepy\n",
      "Installing collected packages: moviepy\n",
      "  Attempting uninstall: moviepy\n",
      "    Found existing installation: moviepy 1.0.3\n",
      "    Uninstalling moviepy-1.0.3:\n",
      "      Successfully uninstalled moviepy-1.0.3\n",
      "Successfully installed moviepy-1.0.0\n"
     ]
    }
   ],
   "source": [
    "!pip install moviepy==1.0.0\n",
    "\n"
   ]
  },
  {
   "cell_type": "code",
   "execution_count": 43,
   "id": "4820acaa",
   "metadata": {},
   "outputs": [],
   "source": [
    "import moviepy.editor as mp\n",
    "from pydub import AudioSegment\n",
    "import pandas as pd\n",
    "import numpy as np\n",
    "import os"
   ]
  },
  {
   "cell_type": "code",
   "execution_count": 3,
   "id": "c859ad95",
   "metadata": {},
   "outputs": [],
   "source": [
    "# open csv file with file names and content to create a dict\n",
    "\n",
    "df = pd.read_csv(r\"C:\\Users\\hagar\\OneDrive - mail.tau.ac.il\\Desktop\\CUSTIME videos\\word_file_names.csv\", encoding=\"utf-8\",index_col=False)\n",
    "\n",
    "dic = dict(df.values) # creat a dic from the df\n",
    "dic = {v: k for k, v in dic.items()}\n",
    "\n"
   ]
  },
  {
   "cell_type": "code",
   "execution_count": 64,
   "id": "f9f5b06c",
   "metadata": {},
   "outputs": [],
   "source": [
    "# go over all the files in the input folder and creat a wav and text files to the output folder (MFA INPUT)\n",
    "dst = r\"C:\\Users\\hagar\\OneDrive - mail.tau.ac.il\\Desktop\\CUSTIME videos\\MFA_input\"\n",
    "src = r\"C:\\Users\\hagar\\OneDrive - mail.tau.ac.il\\Desktop\\CUSTIME videos\\finalcut\"\n",
    "\n",
    "\n"
   ]
  },
  {
   "cell_type": "code",
   "execution_count": 20,
   "id": "b6399302",
   "metadata": {},
   "outputs": [],
   "source": [
    "def convert_and_txt(filename, d):\n",
    "    "
   ]
  },
  {
   "cell_type": "code",
   "execution_count": 65,
   "id": "606b0d64",
   "metadata": {},
   "outputs": [],
   "source": [
    "def get_txt_file(filename, dst):\n",
    "    file = os.path.basename(os.path.splitext(filename)[0])\n",
    "    word = dic[file]\n",
    "    with open(f'{os.path.join(dst,file)}.txt', 'w',encoding=\"utf-8\") as txt:\n",
    "        txt.write(f'{word}')\n",
    "\n",
    "        \n",
    "def convert(filename, dst):\n",
    "    audio = AudioSegment.from_file(filename, format=\"mp4\")\n",
    "    audio = audio.set_frame_rate(16000)\n",
    "    file = os.path.basename(os.path.splitext(filename)[0])\n",
    "    audio.export(f'{os.path.join(dst,file)}.wav', format=\"wav\")"
   ]
  },
  {
   "cell_type": "code",
   "execution_count": 61,
   "id": "24ec61c4",
   "metadata": {},
   "outputs": [],
   "source": [
    "def convert1(filename, dst):\n",
    "    clip = mp.VideoFileClip(filename)\n",
    "    clip.audio.write_audiofile(f'{os.path.join(dst,file)}.wav',\n",
    "                               fps=16000,  # Set fps to 16k\n",
    "                                codec='pcm_s16le',\n",
    "                                ffmpeg_params=['-ac', '1']) # writing the file into wav 16k format"
   ]
  },
  {
   "cell_type": "code",
   "execution_count": 66,
   "id": "60fb3626",
   "metadata": {},
   "outputs": [],
   "source": [
    "# Apply the function to all the videos in the file\n",
    "import glob\n",
    "\n",
    "\n",
    "for f in glob.glob(f'{src}\\*.mp4'):\n",
    "    get_txt_file(f, dst)\n"
   ]
  }
 ],
 "metadata": {
  "kernelspec": {
   "display_name": "Python 3 (ipykernel)",
   "language": "python",
   "name": "python3"
  },
  "language_info": {
   "codemirror_mode": {
    "name": "ipython",
    "version": 3
   },
   "file_extension": ".py",
   "mimetype": "text/x-python",
   "name": "python",
   "nbconvert_exporter": "python",
   "pygments_lexer": "ipython3",
   "version": "3.9.7"
  }
 },
 "nbformat": 4,
 "nbformat_minor": 5
}
